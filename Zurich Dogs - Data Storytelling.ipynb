{
 "cells": [
  {
   "cell_type": "markdown",
   "id": "c63c390c",
   "metadata": {},
   "source": [
    "<b> ZURICH DOGS STUDY <b>\n",
    "\n",
    "QUESTIONS TO ASK:\n",
    "\n",
    "    1- Which age group owns the most dogs?\n",
    "    \n",
    "    2- How does this trend advance in three years from 2015 to 2017?\n",
    "    \n",
    "    3- Which age group owns the most 'Terrier' breeds?\n",
    "    \n",
    "    4- Which district seems to own the most Terrier dogs?\n",
    "    \n",
    "    5- Which is the most common color in terrier dogs?\n",
    "    \n",
    "   Note: These questions were designed with a scenario that a terrier breeder client wanted to learn their target age-group and target district in Zurich in order to advertise their terrier/terrier mix dogs. "
   ]
  },
  {
   "cell_type": "code",
   "execution_count": 129,
   "id": "8fa56fa9",
   "metadata": {},
   "outputs": [],
   "source": [
    "##Code task 1#\n",
    "#Import pandas, matplotlib.pyplot, and seaborn in the correct lines below\n",
    "import pandas as pd\n",
    "import matplotlib.pyplot as plt\n",
    "import seaborn as sns\n",
    "import os\n",
    "import numpy as np\n",
    "\n",
    "from library.sb_utils import save_file\n",
    "import plotly.express as px"
   ]
  },
  {
   "cell_type": "code",
   "execution_count": 130,
   "id": "f75dd381",
   "metadata": {},
   "outputs": [],
   "source": [
    " #the supplied CSV data files \n",
    "dog_data15 = pd.read_csv('20151001hundehalter.csv')\n",
    "dog_data16 = pd.read_csv('20160307hundehalter.csv')\n",
    "dog_data17 = pd.read_csv('20170308hundehalter.csv')\n"
   ]
  },
  {
   "cell_type": "code",
   "execution_count": 131,
   "id": "f9ae36b8",
   "metadata": {},
   "outputs": [
    {
     "data": {
      "text/html": [
       "<div>\n",
       "<style scoped>\n",
       "    .dataframe tbody tr th:only-of-type {\n",
       "        vertical-align: middle;\n",
       "    }\n",
       "\n",
       "    .dataframe tbody tr th {\n",
       "        vertical-align: top;\n",
       "    }\n",
       "\n",
       "    .dataframe thead th {\n",
       "        text-align: right;\n",
       "    }\n",
       "</style>\n",
       "<table border=\"1\" class=\"dataframe\">\n",
       "  <thead>\n",
       "    <tr style=\"text-align: right;\">\n",
       "      <th></th>\n",
       "      <th>HALTER_ID</th>\n",
       "      <th>ALTER</th>\n",
       "      <th>GESCHLECHT</th>\n",
       "      <th>STADTKREIS</th>\n",
       "      <th>STADTQUARTIER</th>\n",
       "      <th>RASSE1</th>\n",
       "      <th>RASSE1_MISCHLING</th>\n",
       "      <th>RASSE2</th>\n",
       "      <th>RASSE2_MISCHLING</th>\n",
       "      <th>RASSENTYP</th>\n",
       "      <th>GEBURTSJAHR_HUND</th>\n",
       "      <th>GESCHLECHT_HUND</th>\n",
       "      <th>HUNDEFARBE</th>\n",
       "    </tr>\n",
       "  </thead>\n",
       "  <tbody>\n",
       "    <tr>\n",
       "      <th>0</th>\n",
       "      <td>126</td>\n",
       "      <td>51-60</td>\n",
       "      <td>m</td>\n",
       "      <td>9.0</td>\n",
       "      <td>92.0</td>\n",
       "      <td>Welsh Terrier</td>\n",
       "      <td>NaN</td>\n",
       "      <td>NaN</td>\n",
       "      <td>NaN</td>\n",
       "      <td>K</td>\n",
       "      <td>2011</td>\n",
       "      <td>w</td>\n",
       "      <td>schwarz/braun</td>\n",
       "    </tr>\n",
       "    <tr>\n",
       "      <th>1</th>\n",
       "      <td>574</td>\n",
       "      <td>61-70</td>\n",
       "      <td>w</td>\n",
       "      <td>2.0</td>\n",
       "      <td>23.0</td>\n",
       "      <td>Cairn Terrier</td>\n",
       "      <td>NaN</td>\n",
       "      <td>NaN</td>\n",
       "      <td>NaN</td>\n",
       "      <td>K</td>\n",
       "      <td>2002</td>\n",
       "      <td>w</td>\n",
       "      <td>brindle</td>\n",
       "    </tr>\n",
       "    <tr>\n",
       "      <th>2</th>\n",
       "      <td>695</td>\n",
       "      <td>41-50</td>\n",
       "      <td>m</td>\n",
       "      <td>6.0</td>\n",
       "      <td>63.0</td>\n",
       "      <td>Labrador Retriever</td>\n",
       "      <td>NaN</td>\n",
       "      <td>NaN</td>\n",
       "      <td>NaN</td>\n",
       "      <td>I</td>\n",
       "      <td>2012</td>\n",
       "      <td>w</td>\n",
       "      <td>braun</td>\n",
       "    </tr>\n",
       "    <tr>\n",
       "      <th>3</th>\n",
       "      <td>893</td>\n",
       "      <td>61-70</td>\n",
       "      <td>w</td>\n",
       "      <td>7.0</td>\n",
       "      <td>71.0</td>\n",
       "      <td>Mittelschnauzer</td>\n",
       "      <td>NaN</td>\n",
       "      <td>NaN</td>\n",
       "      <td>NaN</td>\n",
       "      <td>I</td>\n",
       "      <td>2010</td>\n",
       "      <td>w</td>\n",
       "      <td>schwarz</td>\n",
       "    </tr>\n",
       "    <tr>\n",
       "      <th>4</th>\n",
       "      <td>1177</td>\n",
       "      <td>51-60</td>\n",
       "      <td>m</td>\n",
       "      <td>10.0</td>\n",
       "      <td>102.0</td>\n",
       "      <td>Shih Tzu</td>\n",
       "      <td>NaN</td>\n",
       "      <td>NaN</td>\n",
       "      <td>NaN</td>\n",
       "      <td>K</td>\n",
       "      <td>2011</td>\n",
       "      <td>m</td>\n",
       "      <td>schwarz/weiss</td>\n",
       "    </tr>\n",
       "  </tbody>\n",
       "</table>\n",
       "</div>"
      ],
      "text/plain": [
       "   HALTER_ID  ALTER GESCHLECHT  STADTKREIS  STADTQUARTIER              RASSE1  \\\n",
       "0        126  51-60          m         9.0           92.0       Welsh Terrier   \n",
       "1        574  61-70          w         2.0           23.0       Cairn Terrier   \n",
       "2        695  41-50          m         6.0           63.0  Labrador Retriever   \n",
       "3        893  61-70          w         7.0           71.0     Mittelschnauzer   \n",
       "4       1177  51-60          m        10.0          102.0            Shih Tzu   \n",
       "\n",
       "  RASSE1_MISCHLING RASSE2  RASSE2_MISCHLING RASSENTYP  GEBURTSJAHR_HUND  \\\n",
       "0              NaN    NaN               NaN         K              2011   \n",
       "1              NaN    NaN               NaN         K              2002   \n",
       "2              NaN    NaN               NaN         I              2012   \n",
       "3              NaN    NaN               NaN         I              2010   \n",
       "4              NaN    NaN               NaN         K              2011   \n",
       "\n",
       "  GESCHLECHT_HUND     HUNDEFARBE  \n",
       "0               w  schwarz/braun  \n",
       "1               w        brindle  \n",
       "2               w          braun  \n",
       "3               w        schwarz  \n",
       "4               m  schwarz/weiss  "
      ]
     },
     "execution_count": 131,
     "metadata": {},
     "output_type": "execute_result"
    }
   ],
   "source": [
    "# let's take a look at the datasets of 3 years\n",
    "dog_data15.head()"
   ]
  },
  {
   "cell_type": "code",
   "execution_count": 132,
   "id": "931ee0be",
   "metadata": {},
   "outputs": [
    {
     "data": {
      "text/html": [
       "<div>\n",
       "<style scoped>\n",
       "    .dataframe tbody tr th:only-of-type {\n",
       "        vertical-align: middle;\n",
       "    }\n",
       "\n",
       "    .dataframe tbody tr th {\n",
       "        vertical-align: top;\n",
       "    }\n",
       "\n",
       "    .dataframe thead th {\n",
       "        text-align: right;\n",
       "    }\n",
       "</style>\n",
       "<table border=\"1\" class=\"dataframe\">\n",
       "  <thead>\n",
       "    <tr style=\"text-align: right;\">\n",
       "      <th></th>\n",
       "      <th>HALTER_ID</th>\n",
       "      <th>ALTER</th>\n",
       "      <th>GESCHLECHT</th>\n",
       "      <th>STADTKREIS</th>\n",
       "      <th>STADTQUARTIER</th>\n",
       "      <th>RASSE1</th>\n",
       "      <th>RASSE1_MISCHLING</th>\n",
       "      <th>RASSE2</th>\n",
       "      <th>RASSE2_MISCHLING</th>\n",
       "      <th>RASSENTYP</th>\n",
       "      <th>GEBURTSJAHR_HUND</th>\n",
       "      <th>GESCHLECHT_HUND</th>\n",
       "      <th>HUNDEFARBE</th>\n",
       "    </tr>\n",
       "  </thead>\n",
       "  <tbody>\n",
       "    <tr>\n",
       "      <th>0</th>\n",
       "      <td>126</td>\n",
       "      <td>51-60</td>\n",
       "      <td>m</td>\n",
       "      <td>9.0</td>\n",
       "      <td>92.0</td>\n",
       "      <td>Welsh Terrier</td>\n",
       "      <td>NaN</td>\n",
       "      <td>NaN</td>\n",
       "      <td>NaN</td>\n",
       "      <td>K</td>\n",
       "      <td>2011</td>\n",
       "      <td>w</td>\n",
       "      <td>schwarz/braun</td>\n",
       "    </tr>\n",
       "    <tr>\n",
       "      <th>1</th>\n",
       "      <td>171</td>\n",
       "      <td>61-70</td>\n",
       "      <td>m</td>\n",
       "      <td>3.0</td>\n",
       "      <td>31.0</td>\n",
       "      <td>Berner Sennenhund</td>\n",
       "      <td>NaN</td>\n",
       "      <td>NaN</td>\n",
       "      <td>NaN</td>\n",
       "      <td>I</td>\n",
       "      <td>2009</td>\n",
       "      <td>m</td>\n",
       "      <td>tricolor</td>\n",
       "    </tr>\n",
       "    <tr>\n",
       "      <th>2</th>\n",
       "      <td>574</td>\n",
       "      <td>61-70</td>\n",
       "      <td>w</td>\n",
       "      <td>2.0</td>\n",
       "      <td>23.0</td>\n",
       "      <td>Cairn Terrier</td>\n",
       "      <td>NaN</td>\n",
       "      <td>NaN</td>\n",
       "      <td>NaN</td>\n",
       "      <td>K</td>\n",
       "      <td>2002</td>\n",
       "      <td>w</td>\n",
       "      <td>brindle</td>\n",
       "    </tr>\n",
       "    <tr>\n",
       "      <th>3</th>\n",
       "      <td>695</td>\n",
       "      <td>41-50</td>\n",
       "      <td>m</td>\n",
       "      <td>6.0</td>\n",
       "      <td>63.0</td>\n",
       "      <td>Labrador Retriever</td>\n",
       "      <td>NaN</td>\n",
       "      <td>NaN</td>\n",
       "      <td>NaN</td>\n",
       "      <td>I</td>\n",
       "      <td>2012</td>\n",
       "      <td>w</td>\n",
       "      <td>braun</td>\n",
       "    </tr>\n",
       "    <tr>\n",
       "      <th>4</th>\n",
       "      <td>893</td>\n",
       "      <td>61-70</td>\n",
       "      <td>w</td>\n",
       "      <td>7.0</td>\n",
       "      <td>71.0</td>\n",
       "      <td>Mittelschnauzer</td>\n",
       "      <td>NaN</td>\n",
       "      <td>NaN</td>\n",
       "      <td>NaN</td>\n",
       "      <td>I</td>\n",
       "      <td>2010</td>\n",
       "      <td>w</td>\n",
       "      <td>schwarz</td>\n",
       "    </tr>\n",
       "  </tbody>\n",
       "</table>\n",
       "</div>"
      ],
      "text/plain": [
       "   HALTER_ID  ALTER GESCHLECHT  STADTKREIS  STADTQUARTIER              RASSE1  \\\n",
       "0        126  51-60          m         9.0           92.0       Welsh Terrier   \n",
       "1        171  61-70          m         3.0           31.0   Berner Sennenhund   \n",
       "2        574  61-70          w         2.0           23.0       Cairn Terrier   \n",
       "3        695  41-50          m         6.0           63.0  Labrador Retriever   \n",
       "4        893  61-70          w         7.0           71.0     Mittelschnauzer   \n",
       "\n",
       "  RASSE1_MISCHLING RASSE2  RASSE2_MISCHLING RASSENTYP  GEBURTSJAHR_HUND  \\\n",
       "0              NaN    NaN               NaN         K              2011   \n",
       "1              NaN    NaN               NaN         I              2009   \n",
       "2              NaN    NaN               NaN         K              2002   \n",
       "3              NaN    NaN               NaN         I              2012   \n",
       "4              NaN    NaN               NaN         I              2010   \n",
       "\n",
       "  GESCHLECHT_HUND     HUNDEFARBE  \n",
       "0               w  schwarz/braun  \n",
       "1               m       tricolor  \n",
       "2               w        brindle  \n",
       "3               w          braun  \n",
       "4               w        schwarz  "
      ]
     },
     "execution_count": 132,
     "metadata": {},
     "output_type": "execute_result"
    }
   ],
   "source": [
    "dog_data16.head()"
   ]
  },
  {
   "cell_type": "code",
   "execution_count": 133,
   "id": "519e98a0",
   "metadata": {},
   "outputs": [
    {
     "data": {
      "text/html": [
       "<div>\n",
       "<style scoped>\n",
       "    .dataframe tbody tr th:only-of-type {\n",
       "        vertical-align: middle;\n",
       "    }\n",
       "\n",
       "    .dataframe tbody tr th {\n",
       "        vertical-align: top;\n",
       "    }\n",
       "\n",
       "    .dataframe thead th {\n",
       "        text-align: right;\n",
       "    }\n",
       "</style>\n",
       "<table border=\"1\" class=\"dataframe\">\n",
       "  <thead>\n",
       "    <tr style=\"text-align: right;\">\n",
       "      <th></th>\n",
       "      <th>HALTER_ID</th>\n",
       "      <th>ALTER</th>\n",
       "      <th>GESCHLECHT</th>\n",
       "      <th>STADTKREIS</th>\n",
       "      <th>STADTQUARTIER</th>\n",
       "      <th>RASSE1</th>\n",
       "      <th>RASSE1_MISCHLING</th>\n",
       "      <th>RASSE2</th>\n",
       "      <th>RASSE2_MISCHLING</th>\n",
       "      <th>RASSENTYP</th>\n",
       "      <th>GEBURTSJAHR_HUND</th>\n",
       "      <th>GESCHLECHT_HUND</th>\n",
       "      <th>HUNDEFARBE</th>\n",
       "    </tr>\n",
       "  </thead>\n",
       "  <tbody>\n",
       "    <tr>\n",
       "      <th>0</th>\n",
       "      <td>126</td>\n",
       "      <td>61-70</td>\n",
       "      <td>m</td>\n",
       "      <td>9.0</td>\n",
       "      <td>92.0</td>\n",
       "      <td>Welsh Terrier</td>\n",
       "      <td>NaN</td>\n",
       "      <td>NaN</td>\n",
       "      <td>NaN</td>\n",
       "      <td>K</td>\n",
       "      <td>2011</td>\n",
       "      <td>w</td>\n",
       "      <td>schwarz/braun</td>\n",
       "    </tr>\n",
       "    <tr>\n",
       "      <th>1</th>\n",
       "      <td>171</td>\n",
       "      <td>61-70</td>\n",
       "      <td>m</td>\n",
       "      <td>3.0</td>\n",
       "      <td>31.0</td>\n",
       "      <td>Berner Sennenhund</td>\n",
       "      <td>NaN</td>\n",
       "      <td>NaN</td>\n",
       "      <td>NaN</td>\n",
       "      <td>I</td>\n",
       "      <td>2009</td>\n",
       "      <td>m</td>\n",
       "      <td>tricolor</td>\n",
       "    </tr>\n",
       "    <tr>\n",
       "      <th>2</th>\n",
       "      <td>574</td>\n",
       "      <td>61-70</td>\n",
       "      <td>w</td>\n",
       "      <td>2.0</td>\n",
       "      <td>23.0</td>\n",
       "      <td>Mischling gross</td>\n",
       "      <td>NaN</td>\n",
       "      <td>NaN</td>\n",
       "      <td>NaN</td>\n",
       "      <td>I</td>\n",
       "      <td>2013</td>\n",
       "      <td>w</td>\n",
       "      <td>schwarz</td>\n",
       "    </tr>\n",
       "    <tr>\n",
       "      <th>3</th>\n",
       "      <td>695</td>\n",
       "      <td>41-50</td>\n",
       "      <td>m</td>\n",
       "      <td>6.0</td>\n",
       "      <td>63.0</td>\n",
       "      <td>Labrador Retriever</td>\n",
       "      <td>NaN</td>\n",
       "      <td>NaN</td>\n",
       "      <td>NaN</td>\n",
       "      <td>I</td>\n",
       "      <td>2012</td>\n",
       "      <td>w</td>\n",
       "      <td>braun</td>\n",
       "    </tr>\n",
       "    <tr>\n",
       "      <th>4</th>\n",
       "      <td>893</td>\n",
       "      <td>61-70</td>\n",
       "      <td>w</td>\n",
       "      <td>7.0</td>\n",
       "      <td>71.0</td>\n",
       "      <td>Mittelschnauzer</td>\n",
       "      <td>NaN</td>\n",
       "      <td>NaN</td>\n",
       "      <td>NaN</td>\n",
       "      <td>I</td>\n",
       "      <td>2010</td>\n",
       "      <td>w</td>\n",
       "      <td>schwarz</td>\n",
       "    </tr>\n",
       "  </tbody>\n",
       "</table>\n",
       "</div>"
      ],
      "text/plain": [
       "   HALTER_ID  ALTER GESCHLECHT  STADTKREIS  STADTQUARTIER              RASSE1  \\\n",
       "0        126  61-70          m         9.0           92.0       Welsh Terrier   \n",
       "1        171  61-70          m         3.0           31.0   Berner Sennenhund   \n",
       "2        574  61-70          w         2.0           23.0     Mischling gross   \n",
       "3        695  41-50          m         6.0           63.0  Labrador Retriever   \n",
       "4        893  61-70          w         7.0           71.0     Mittelschnauzer   \n",
       "\n",
       "  RASSE1_MISCHLING RASSE2  RASSE2_MISCHLING RASSENTYP  GEBURTSJAHR_HUND  \\\n",
       "0              NaN    NaN               NaN         K              2011   \n",
       "1              NaN    NaN               NaN         I              2009   \n",
       "2              NaN    NaN               NaN         I              2013   \n",
       "3              NaN    NaN               NaN         I              2012   \n",
       "4              NaN    NaN               NaN         I              2010   \n",
       "\n",
       "  GESCHLECHT_HUND     HUNDEFARBE  \n",
       "0               w  schwarz/braun  \n",
       "1               m       tricolor  \n",
       "2               w        schwarz  \n",
       "3               w          braun  \n",
       "4               w        schwarz  "
      ]
     },
     "execution_count": 133,
     "metadata": {},
     "output_type": "execute_result"
    }
   ],
   "source": [
    "dog_data17.head()"
   ]
  },
  {
   "cell_type": "markdown",
   "id": "840df55b",
   "metadata": {},
   "source": [
    "ALTER -> Age\n",
    "GESCHLECHT -> Gender\n",
    "STADTKREIS -> City Quarter or District\n",
    "RASSE1 -> Dog's Primary Breed\n",
    "RASSE2 -> Dog's Secondary Breed\n",
    "GEBURTSJAHR_HUND -> Dog's Year of Birth\n",
    "GESCHLECHT_HUND -> Dog's Gender\n",
    "HUNDEFARBE -> Dog's Color"
   ]
  },
  {
   "cell_type": "code",
   "execution_count": 134,
   "id": "1742c2a7",
   "metadata": {},
   "outputs": [],
   "source": [
    "#Translating the German columns into English\n",
    "dog_data15.columns = [\"OWNER_ID\", \"AGE\", \"GENDER\", \"CITY QUARTER\", \"DISTRICT\", \n",
    "                      \"PRIMARY BREED\", \"PRIMARY BREEDMIX\", \"SECONDARY BREED\", \n",
    "                      \"SECONDARY BREEDMIX\", \"BREED TYPE\", \"BIRTH YEAR (DOG)\", \n",
    "                      \"GENDER (DOG)\", \"COLOR (DOG)\"]"
   ]
  },
  {
   "cell_type": "code",
   "execution_count": 135,
   "id": "1d7bdca7",
   "metadata": {},
   "outputs": [
    {
     "data": {
      "text/html": [
       "<div>\n",
       "<style scoped>\n",
       "    .dataframe tbody tr th:only-of-type {\n",
       "        vertical-align: middle;\n",
       "    }\n",
       "\n",
       "    .dataframe tbody tr th {\n",
       "        vertical-align: top;\n",
       "    }\n",
       "\n",
       "    .dataframe thead th {\n",
       "        text-align: right;\n",
       "    }\n",
       "</style>\n",
       "<table border=\"1\" class=\"dataframe\">\n",
       "  <thead>\n",
       "    <tr style=\"text-align: right;\">\n",
       "      <th></th>\n",
       "      <th>OWNER_ID</th>\n",
       "      <th>AGE</th>\n",
       "      <th>GENDER</th>\n",
       "      <th>CITY QUARTER</th>\n",
       "      <th>DISTRICT</th>\n",
       "      <th>PRIMARY BREED</th>\n",
       "      <th>PRIMARY BREEDMIX</th>\n",
       "      <th>SECONDARY BREED</th>\n",
       "      <th>SECONDARY BREEDMIX</th>\n",
       "      <th>BREED TYPE</th>\n",
       "      <th>BIRTH YEAR (DOG)</th>\n",
       "      <th>GENDER (DOG)</th>\n",
       "      <th>COLOR (DOG)</th>\n",
       "    </tr>\n",
       "  </thead>\n",
       "  <tbody>\n",
       "    <tr>\n",
       "      <th>0</th>\n",
       "      <td>126</td>\n",
       "      <td>51-60</td>\n",
       "      <td>m</td>\n",
       "      <td>9.0</td>\n",
       "      <td>92.0</td>\n",
       "      <td>Welsh Terrier</td>\n",
       "      <td>NaN</td>\n",
       "      <td>NaN</td>\n",
       "      <td>NaN</td>\n",
       "      <td>K</td>\n",
       "      <td>2011</td>\n",
       "      <td>w</td>\n",
       "      <td>schwarz/braun</td>\n",
       "    </tr>\n",
       "    <tr>\n",
       "      <th>1</th>\n",
       "      <td>574</td>\n",
       "      <td>61-70</td>\n",
       "      <td>w</td>\n",
       "      <td>2.0</td>\n",
       "      <td>23.0</td>\n",
       "      <td>Cairn Terrier</td>\n",
       "      <td>NaN</td>\n",
       "      <td>NaN</td>\n",
       "      <td>NaN</td>\n",
       "      <td>K</td>\n",
       "      <td>2002</td>\n",
       "      <td>w</td>\n",
       "      <td>brindle</td>\n",
       "    </tr>\n",
       "    <tr>\n",
       "      <th>2</th>\n",
       "      <td>695</td>\n",
       "      <td>41-50</td>\n",
       "      <td>m</td>\n",
       "      <td>6.0</td>\n",
       "      <td>63.0</td>\n",
       "      <td>Labrador Retriever</td>\n",
       "      <td>NaN</td>\n",
       "      <td>NaN</td>\n",
       "      <td>NaN</td>\n",
       "      <td>I</td>\n",
       "      <td>2012</td>\n",
       "      <td>w</td>\n",
       "      <td>braun</td>\n",
       "    </tr>\n",
       "    <tr>\n",
       "      <th>3</th>\n",
       "      <td>893</td>\n",
       "      <td>61-70</td>\n",
       "      <td>w</td>\n",
       "      <td>7.0</td>\n",
       "      <td>71.0</td>\n",
       "      <td>Mittelschnauzer</td>\n",
       "      <td>NaN</td>\n",
       "      <td>NaN</td>\n",
       "      <td>NaN</td>\n",
       "      <td>I</td>\n",
       "      <td>2010</td>\n",
       "      <td>w</td>\n",
       "      <td>schwarz</td>\n",
       "    </tr>\n",
       "    <tr>\n",
       "      <th>4</th>\n",
       "      <td>1177</td>\n",
       "      <td>51-60</td>\n",
       "      <td>m</td>\n",
       "      <td>10.0</td>\n",
       "      <td>102.0</td>\n",
       "      <td>Shih Tzu</td>\n",
       "      <td>NaN</td>\n",
       "      <td>NaN</td>\n",
       "      <td>NaN</td>\n",
       "      <td>K</td>\n",
       "      <td>2011</td>\n",
       "      <td>m</td>\n",
       "      <td>schwarz/weiss</td>\n",
       "    </tr>\n",
       "  </tbody>\n",
       "</table>\n",
       "</div>"
      ],
      "text/plain": [
       "   OWNER_ID    AGE GENDER  CITY QUARTER  DISTRICT       PRIMARY BREED  \\\n",
       "0       126  51-60      m           9.0      92.0       Welsh Terrier   \n",
       "1       574  61-70      w           2.0      23.0       Cairn Terrier   \n",
       "2       695  41-50      m           6.0      63.0  Labrador Retriever   \n",
       "3       893  61-70      w           7.0      71.0     Mittelschnauzer   \n",
       "4      1177  51-60      m          10.0     102.0            Shih Tzu   \n",
       "\n",
       "  PRIMARY BREEDMIX SECONDARY BREED  SECONDARY BREEDMIX BREED TYPE  \\\n",
       "0              NaN             NaN                 NaN          K   \n",
       "1              NaN             NaN                 NaN          K   \n",
       "2              NaN             NaN                 NaN          I   \n",
       "3              NaN             NaN                 NaN          I   \n",
       "4              NaN             NaN                 NaN          K   \n",
       "\n",
       "   BIRTH YEAR (DOG) GENDER (DOG)    COLOR (DOG)  \n",
       "0              2011            w  schwarz/braun  \n",
       "1              2002            w        brindle  \n",
       "2              2012            w          braun  \n",
       "3              2010            w        schwarz  \n",
       "4              2011            m  schwarz/weiss  "
      ]
     },
     "execution_count": 135,
     "metadata": {},
     "output_type": "execute_result"
    }
   ],
   "source": [
    "#checking the translated columns\n",
    "dog_data15.head()"
   ]
  },
  {
   "cell_type": "code",
   "execution_count": 136,
   "id": "008e311b",
   "metadata": {},
   "outputs": [
    {
     "data": {
      "text/html": [
       "<div>\n",
       "<style scoped>\n",
       "    .dataframe tbody tr th:only-of-type {\n",
       "        vertical-align: middle;\n",
       "    }\n",
       "\n",
       "    .dataframe tbody tr th {\n",
       "        vertical-align: top;\n",
       "    }\n",
       "\n",
       "    .dataframe thead th {\n",
       "        text-align: right;\n",
       "    }\n",
       "</style>\n",
       "<table border=\"1\" class=\"dataframe\">\n",
       "  <thead>\n",
       "    <tr style=\"text-align: right;\">\n",
       "      <th></th>\n",
       "      <th>OWNER_ID</th>\n",
       "      <th>AGE</th>\n",
       "      <th>GENDER</th>\n",
       "      <th>CITY QUARTER</th>\n",
       "      <th>DISTRICT</th>\n",
       "      <th>PRIMARY BREED</th>\n",
       "      <th>PRIMARY BREEDMIX</th>\n",
       "      <th>SECONDARY BREED</th>\n",
       "      <th>SECONDARY BREEDMIX</th>\n",
       "      <th>BREED TYPE</th>\n",
       "      <th>BIRTH YEAR (DOG)</th>\n",
       "      <th>GENDER (DOG)</th>\n",
       "      <th>COLOR (DOG)</th>\n",
       "    </tr>\n",
       "  </thead>\n",
       "  <tbody>\n",
       "    <tr>\n",
       "      <th>0</th>\n",
       "      <td>126</td>\n",
       "      <td>51-60</td>\n",
       "      <td>m</td>\n",
       "      <td>9.0</td>\n",
       "      <td>92.0</td>\n",
       "      <td>Welsh Terrier</td>\n",
       "      <td>NaN</td>\n",
       "      <td>NaN</td>\n",
       "      <td>NaN</td>\n",
       "      <td>K</td>\n",
       "      <td>2011</td>\n",
       "      <td>w</td>\n",
       "      <td>schwarz/braun</td>\n",
       "    </tr>\n",
       "    <tr>\n",
       "      <th>1</th>\n",
       "      <td>171</td>\n",
       "      <td>61-70</td>\n",
       "      <td>m</td>\n",
       "      <td>3.0</td>\n",
       "      <td>31.0</td>\n",
       "      <td>Berner Sennenhund</td>\n",
       "      <td>NaN</td>\n",
       "      <td>NaN</td>\n",
       "      <td>NaN</td>\n",
       "      <td>I</td>\n",
       "      <td>2009</td>\n",
       "      <td>m</td>\n",
       "      <td>tricolor</td>\n",
       "    </tr>\n",
       "    <tr>\n",
       "      <th>2</th>\n",
       "      <td>574</td>\n",
       "      <td>61-70</td>\n",
       "      <td>w</td>\n",
       "      <td>2.0</td>\n",
       "      <td>23.0</td>\n",
       "      <td>Cairn Terrier</td>\n",
       "      <td>NaN</td>\n",
       "      <td>NaN</td>\n",
       "      <td>NaN</td>\n",
       "      <td>K</td>\n",
       "      <td>2002</td>\n",
       "      <td>w</td>\n",
       "      <td>brindle</td>\n",
       "    </tr>\n",
       "    <tr>\n",
       "      <th>3</th>\n",
       "      <td>695</td>\n",
       "      <td>41-50</td>\n",
       "      <td>m</td>\n",
       "      <td>6.0</td>\n",
       "      <td>63.0</td>\n",
       "      <td>Labrador Retriever</td>\n",
       "      <td>NaN</td>\n",
       "      <td>NaN</td>\n",
       "      <td>NaN</td>\n",
       "      <td>I</td>\n",
       "      <td>2012</td>\n",
       "      <td>w</td>\n",
       "      <td>braun</td>\n",
       "    </tr>\n",
       "    <tr>\n",
       "      <th>4</th>\n",
       "      <td>893</td>\n",
       "      <td>61-70</td>\n",
       "      <td>w</td>\n",
       "      <td>7.0</td>\n",
       "      <td>71.0</td>\n",
       "      <td>Mittelschnauzer</td>\n",
       "      <td>NaN</td>\n",
       "      <td>NaN</td>\n",
       "      <td>NaN</td>\n",
       "      <td>I</td>\n",
       "      <td>2010</td>\n",
       "      <td>w</td>\n",
       "      <td>schwarz</td>\n",
       "    </tr>\n",
       "  </tbody>\n",
       "</table>\n",
       "</div>"
      ],
      "text/plain": [
       "   OWNER_ID    AGE GENDER  CITY QUARTER  DISTRICT       PRIMARY BREED  \\\n",
       "0       126  51-60      m           9.0      92.0       Welsh Terrier   \n",
       "1       171  61-70      m           3.0      31.0   Berner Sennenhund   \n",
       "2       574  61-70      w           2.0      23.0       Cairn Terrier   \n",
       "3       695  41-50      m           6.0      63.0  Labrador Retriever   \n",
       "4       893  61-70      w           7.0      71.0     Mittelschnauzer   \n",
       "\n",
       "  PRIMARY BREEDMIX SECONDARY BREED  SECONDARY BREEDMIX BREED TYPE  \\\n",
       "0              NaN             NaN                 NaN          K   \n",
       "1              NaN             NaN                 NaN          I   \n",
       "2              NaN             NaN                 NaN          K   \n",
       "3              NaN             NaN                 NaN          I   \n",
       "4              NaN             NaN                 NaN          I   \n",
       "\n",
       "   BIRTH YEAR (DOG) GENDER (DOG)    COLOR (DOG)  \n",
       "0              2011            w  schwarz/braun  \n",
       "1              2009            m       tricolor  \n",
       "2              2002            w        brindle  \n",
       "3              2012            w          braun  \n",
       "4              2010            w        schwarz  "
      ]
     },
     "execution_count": 136,
     "metadata": {},
     "output_type": "execute_result"
    }
   ],
   "source": [
    "# doing the same translation for 2016 dataset\n",
    "dog_data16.columns = [\"OWNER_ID\", \"AGE\", \"GENDER\", \"CITY QUARTER\", \"DISTRICT\", \n",
    "                      \"PRIMARY BREED\", \"PRIMARY BREEDMIX\", \"SECONDARY BREED\", \n",
    "                      \"SECONDARY BREEDMIX\", \"BREED TYPE\", \"BIRTH YEAR (DOG)\", \n",
    "                      \"GENDER (DOG)\", \"COLOR (DOG)\"]\n",
    "dog_data16.head()"
   ]
  },
  {
   "cell_type": "code",
   "execution_count": 137,
   "id": "8f355e1b",
   "metadata": {},
   "outputs": [
    {
     "data": {
      "text/html": [
       "<div>\n",
       "<style scoped>\n",
       "    .dataframe tbody tr th:only-of-type {\n",
       "        vertical-align: middle;\n",
       "    }\n",
       "\n",
       "    .dataframe tbody tr th {\n",
       "        vertical-align: top;\n",
       "    }\n",
       "\n",
       "    .dataframe thead th {\n",
       "        text-align: right;\n",
       "    }\n",
       "</style>\n",
       "<table border=\"1\" class=\"dataframe\">\n",
       "  <thead>\n",
       "    <tr style=\"text-align: right;\">\n",
       "      <th></th>\n",
       "      <th>OWNER_ID</th>\n",
       "      <th>AGE</th>\n",
       "      <th>GENDER</th>\n",
       "      <th>CITY QUARTER</th>\n",
       "      <th>DISTRICT</th>\n",
       "      <th>PRIMARY BREED</th>\n",
       "      <th>PRIMARY BREEDMIX</th>\n",
       "      <th>SECONDARY BREED</th>\n",
       "      <th>SECONDARY BREEDMIX</th>\n",
       "      <th>BREED TYPE</th>\n",
       "      <th>BIRTH YEAR (DOG)</th>\n",
       "      <th>GENDER (DOG)</th>\n",
       "      <th>COLOR (DOG)</th>\n",
       "    </tr>\n",
       "  </thead>\n",
       "  <tbody>\n",
       "    <tr>\n",
       "      <th>0</th>\n",
       "      <td>126</td>\n",
       "      <td>61-70</td>\n",
       "      <td>m</td>\n",
       "      <td>9.0</td>\n",
       "      <td>92.0</td>\n",
       "      <td>Welsh Terrier</td>\n",
       "      <td>NaN</td>\n",
       "      <td>NaN</td>\n",
       "      <td>NaN</td>\n",
       "      <td>K</td>\n",
       "      <td>2011</td>\n",
       "      <td>w</td>\n",
       "      <td>schwarz/braun</td>\n",
       "    </tr>\n",
       "    <tr>\n",
       "      <th>1</th>\n",
       "      <td>171</td>\n",
       "      <td>61-70</td>\n",
       "      <td>m</td>\n",
       "      <td>3.0</td>\n",
       "      <td>31.0</td>\n",
       "      <td>Berner Sennenhund</td>\n",
       "      <td>NaN</td>\n",
       "      <td>NaN</td>\n",
       "      <td>NaN</td>\n",
       "      <td>I</td>\n",
       "      <td>2009</td>\n",
       "      <td>m</td>\n",
       "      <td>tricolor</td>\n",
       "    </tr>\n",
       "    <tr>\n",
       "      <th>2</th>\n",
       "      <td>574</td>\n",
       "      <td>61-70</td>\n",
       "      <td>w</td>\n",
       "      <td>2.0</td>\n",
       "      <td>23.0</td>\n",
       "      <td>Mischling gross</td>\n",
       "      <td>NaN</td>\n",
       "      <td>NaN</td>\n",
       "      <td>NaN</td>\n",
       "      <td>I</td>\n",
       "      <td>2013</td>\n",
       "      <td>w</td>\n",
       "      <td>schwarz</td>\n",
       "    </tr>\n",
       "    <tr>\n",
       "      <th>3</th>\n",
       "      <td>695</td>\n",
       "      <td>41-50</td>\n",
       "      <td>m</td>\n",
       "      <td>6.0</td>\n",
       "      <td>63.0</td>\n",
       "      <td>Labrador Retriever</td>\n",
       "      <td>NaN</td>\n",
       "      <td>NaN</td>\n",
       "      <td>NaN</td>\n",
       "      <td>I</td>\n",
       "      <td>2012</td>\n",
       "      <td>w</td>\n",
       "      <td>braun</td>\n",
       "    </tr>\n",
       "    <tr>\n",
       "      <th>4</th>\n",
       "      <td>893</td>\n",
       "      <td>61-70</td>\n",
       "      <td>w</td>\n",
       "      <td>7.0</td>\n",
       "      <td>71.0</td>\n",
       "      <td>Mittelschnauzer</td>\n",
       "      <td>NaN</td>\n",
       "      <td>NaN</td>\n",
       "      <td>NaN</td>\n",
       "      <td>I</td>\n",
       "      <td>2010</td>\n",
       "      <td>w</td>\n",
       "      <td>schwarz</td>\n",
       "    </tr>\n",
       "  </tbody>\n",
       "</table>\n",
       "</div>"
      ],
      "text/plain": [
       "   OWNER_ID    AGE GENDER  CITY QUARTER  DISTRICT       PRIMARY BREED  \\\n",
       "0       126  61-70      m           9.0      92.0       Welsh Terrier   \n",
       "1       171  61-70      m           3.0      31.0   Berner Sennenhund   \n",
       "2       574  61-70      w           2.0      23.0     Mischling gross   \n",
       "3       695  41-50      m           6.0      63.0  Labrador Retriever   \n",
       "4       893  61-70      w           7.0      71.0     Mittelschnauzer   \n",
       "\n",
       "  PRIMARY BREEDMIX SECONDARY BREED  SECONDARY BREEDMIX BREED TYPE  \\\n",
       "0              NaN             NaN                 NaN          K   \n",
       "1              NaN             NaN                 NaN          I   \n",
       "2              NaN             NaN                 NaN          I   \n",
       "3              NaN             NaN                 NaN          I   \n",
       "4              NaN             NaN                 NaN          I   \n",
       "\n",
       "   BIRTH YEAR (DOG) GENDER (DOG)    COLOR (DOG)  \n",
       "0              2011            w  schwarz/braun  \n",
       "1              2009            m       tricolor  \n",
       "2              2013            w        schwarz  \n",
       "3              2012            w          braun  \n",
       "4              2010            w        schwarz  "
      ]
     },
     "execution_count": 137,
     "metadata": {},
     "output_type": "execute_result"
    }
   ],
   "source": [
    "# # doing the same translation for 2017 dataset\n",
    "\n",
    "dog_data17.columns = [\"OWNER_ID\", \"AGE\", \"GENDER\", \"CITY QUARTER\", \"DISTRICT\", \n",
    "                      \"PRIMARY BREED\", \"PRIMARY BREEDMIX\", \"SECONDARY BREED\", \n",
    "                      \"SECONDARY BREEDMIX\", \"BREED TYPE\", \"BIRTH YEAR (DOG)\", \n",
    "                      \"GENDER (DOG)\", \"COLOR (DOG)\"]\n",
    "dog_data17.head()"
   ]
  },
  {
   "cell_type": "code",
   "execution_count": 138,
   "id": "406271a1",
   "metadata": {},
   "outputs": [
    {
     "name": "stdout",
     "output_type": "stream",
     "text": [
      "<class 'pandas.core.frame.DataFrame'>\n",
      "RangeIndex: 6980 entries, 0 to 6979\n",
      "Data columns (total 13 columns):\n",
      " #   Column              Non-Null Count  Dtype  \n",
      "---  ------              --------------  -----  \n",
      " 0   OWNER_ID            6980 non-null   int64  \n",
      " 1   AGE                 6978 non-null   object \n",
      " 2   GENDER              6980 non-null   object \n",
      " 3   CITY QUARTER        6978 non-null   float64\n",
      " 4   DISTRICT            6978 non-null   float64\n",
      " 5   PRIMARY BREED       6980 non-null   object \n",
      " 6   PRIMARY BREEDMIX    668 non-null    object \n",
      " 7   SECONDARY BREED     537 non-null    object \n",
      " 8   SECONDARY BREEDMIX  0 non-null      float64\n",
      " 9   BREED TYPE          6806 non-null   object \n",
      " 10  BIRTH YEAR (DOG)    6980 non-null   int64  \n",
      " 11  GENDER (DOG)        6980 non-null   object \n",
      " 12  COLOR (DOG)         6980 non-null   object \n",
      "dtypes: float64(3), int64(2), object(8)\n",
      "memory usage: 709.0+ KB\n"
     ]
    }
   ],
   "source": [
    "#checking which column can be eliminated\n",
    "dog_data15.info()"
   ]
  },
  {
   "cell_type": "code",
   "execution_count": 139,
   "id": "bd49730a",
   "metadata": {},
   "outputs": [
    {
     "name": "stdout",
     "output_type": "stream",
     "text": [
      "<class 'pandas.core.frame.DataFrame'>\n",
      "RangeIndex: 6930 entries, 0 to 6929\n",
      "Data columns (total 13 columns):\n",
      " #   Column              Non-Null Count  Dtype  \n",
      "---  ------              --------------  -----  \n",
      " 0   OWNER_ID            6930 non-null   int64  \n",
      " 1   AGE                 6928 non-null   object \n",
      " 2   GENDER              6930 non-null   object \n",
      " 3   CITY QUARTER        6928 non-null   float64\n",
      " 4   DISTRICT            6928 non-null   float64\n",
      " 5   PRIMARY BREED       6930 non-null   object \n",
      " 6   PRIMARY BREEDMIX    653 non-null    object \n",
      " 7   SECONDARY BREED     510 non-null    object \n",
      " 8   SECONDARY BREEDMIX  0 non-null      float64\n",
      " 9   BREED TYPE          6930 non-null   object \n",
      " 10  BIRTH YEAR (DOG)    6930 non-null   int64  \n",
      " 11  GENDER (DOG)        6930 non-null   object \n",
      " 12  COLOR (DOG)         6930 non-null   object \n",
      "dtypes: float64(3), int64(2), object(8)\n",
      "memory usage: 704.0+ KB\n"
     ]
    }
   ],
   "source": [
    "dog_data16.info()"
   ]
  },
  {
   "cell_type": "code",
   "execution_count": 140,
   "id": "56c46d52",
   "metadata": {},
   "outputs": [
    {
     "name": "stdout",
     "output_type": "stream",
     "text": [
      "<class 'pandas.core.frame.DataFrame'>\n",
      "RangeIndex: 7155 entries, 0 to 7154\n",
      "Data columns (total 13 columns):\n",
      " #   Column              Non-Null Count  Dtype  \n",
      "---  ------              --------------  -----  \n",
      " 0   OWNER_ID            7155 non-null   int64  \n",
      " 1   AGE                 7154 non-null   object \n",
      " 2   GENDER              7155 non-null   object \n",
      " 3   CITY QUARTER        7154 non-null   float64\n",
      " 4   DISTRICT            7154 non-null   float64\n",
      " 5   PRIMARY BREED       7155 non-null   object \n",
      " 6   PRIMARY BREEDMIX    618 non-null    object \n",
      " 7   SECONDARY BREED     543 non-null    object \n",
      " 8   SECONDARY BREEDMIX  0 non-null      float64\n",
      " 9   BREED TYPE          7155 non-null   object \n",
      " 10  BIRTH YEAR (DOG)    7155 non-null   int64  \n",
      " 11  GENDER (DOG)        7155 non-null   object \n",
      " 12  COLOR (DOG)         7155 non-null   object \n",
      "dtypes: float64(3), int64(2), object(8)\n",
      "memory usage: 726.8+ KB\n"
     ]
    }
   ],
   "source": [
    "dog_data17.info()"
   ]
  },
  {
   "cell_type": "code",
   "execution_count": 141,
   "id": "c0b10699",
   "metadata": {},
   "outputs": [],
   "source": [
    "# dropping secondary breedmix column since it has no value.\n",
    "dog_data15.drop('SECONDARY BREEDMIX', axis=1, inplace=True)\n",
    "dog_data16.drop('SECONDARY BREEDMIX', axis=1, inplace=True)\n",
    "dog_data17.drop('SECONDARY BREEDMIX', axis=1, inplace=True)"
   ]
  },
  {
   "cell_type": "code",
   "execution_count": 142,
   "id": "a020565f",
   "metadata": {},
   "outputs": [
    {
     "data": {
      "text/plain": [
       "(7155, 12)"
      ]
     },
     "execution_count": 142,
     "metadata": {},
     "output_type": "execute_result"
    }
   ],
   "source": []
  },
  {
   "cell_type": "code",
   "execution_count": 143,
   "id": "6113699d",
   "metadata": {},
   "outputs": [
    {
     "name": "stdout",
     "output_type": "stream",
     "text": [
      "['Welsh Terrier' 'Cairn Terrier' 'Labrador Retriever' 'Mittelschnauzer'\n",
      " 'Shih Tzu' 'Dackel' 'Bichon frisé' 'Zwergdackel' 'Bergamasker'\n",
      " 'Border Collie' 'Pinscher' 'Chihuahua' 'West Highland White Terrier'\n",
      " 'Mischling klein' 'Golden Retriever' 'Weimaraner' 'Tibetan Spaniel'\n",
      " 'Leonberger' 'Shiba Inu' 'Beagle' 'Lagotto Romagnolo' 'Border Terrier'\n",
      " 'Magyar Viszla' 'Prager Rattler' 'Französische Bulldogge'\n",
      " 'Cocker Spaniel' 'Zwergrauhaardackel' 'Jack Russel Terrier' 'Mops'\n",
      " 'Appenzeller' 'Staffordshire Bull Terrier' 'Grosspudel' 'Spitz'\n",
      " 'Englische Bulldogge' 'English Springer Spaniel' 'Malteser' 'Dobermann'\n",
      " 'Langhaardackel' 'Husky' 'Bolonka Zwetna' 'Kleinspitz' 'Toypudel'\n",
      " 'Terrier' 'Berger blanc Suisse' 'Zwergpudel' 'Foxterrier' 'Kooiker'\n",
      " 'Mittelpudel' 'Yorkshire Terrier' 'Boxer' 'Pudel' 'Belgischer Schäfer'\n",
      " 'Deutscher Schäfer' 'Berner Sennenhund' 'Chow Chow' 'Mudi' 'Papillon'\n",
      " 'Dachshund' 'Tibet Terrier' 'Italienisches Windspiel'\n",
      " 'Holländischer Schäfer' 'Welsh Springer Spaniel' 'Deutsche Dogge'\n",
      " 'Mischling gross' 'Coton de Tulear' 'Hovawart' 'English Cocker Spaniel'\n",
      " 'Hirtenhund' 'Soft Coated Wheaten Terrier' 'Zwergpinscher' 'Canaan Dog'\n",
      " 'Bouvier' 'Appenzeller Sennenhund' 'Jura Laufhund'\n",
      " 'Spanischer Wasserhund' 'Bayerischer Gebirgsschweisshund'\n",
      " 'American Bulldog' 'Schnauzer' 'Parson Jack Russell Terrier' 'Beauceron'\n",
      " 'Bichon Havanais' 'Rottweiler' 'Windspiel' 'Collie' 'Irish Setter'\n",
      " 'Bearded Collie' 'Bichon' 'Tschechoslowakischer Wolfshund'\n",
      " 'Deutscher Wachtel' 'Deutscher Boxer' 'Tervueren'\n",
      " 'Schweizer Niederlaufhund' 'Irish Terrier' 'Parson Russell Terrier'\n",
      " 'Groenendael' 'Pointer' 'Podenco' 'Parson Terrier'\n",
      " 'Basset Griffon vendéen' 'Dalmatiner' 'Labradoodle' 'Schäfer'\n",
      " 'Rhodesian Ridgeback' 'Riesenschnauzer' 'Scottish Terrier'\n",
      " 'Australian Shepherd' 'Pekingese' 'Airedale Terrier'\n",
      " 'Miniature Bull Terrier' 'Berger des Pyrenées' 'Galgo Español'\n",
      " 'Alpenländische Dachsbracke' 'Sheltie' 'Samojede' 'Bobtail' 'Spinone'\n",
      " 'Rauhaar Dackel' 'Katalanischer Hirtenhund' 'Schweizer Sennenhund'\n",
      " 'Afghane' 'Lakeland Terrier' 'Zwergschnauzer' 'Berger Picard'\n",
      " 'Sennenhund' 'Chinese Crested Powderpuff' 'Portugiesischer Wasserhund'\n",
      " 'Deutscher Pinscher' 'Whippet' 'Münsterländer' 'Flat Coated Retriever'\n",
      " 'Kleiner Münsterländer' 'Azawakh' 'Chinese Crested'\n",
      " 'Miniature Australien Shepard' 'Manchester Terrier' 'Rehpinscher'\n",
      " 'Phalène' 'Silky Terrier' 'Irish Soft Coated Wheaten Terrier'\n",
      " 'Entlebucher Sennenhund' 'Islandhund' 'Havaneser' 'Fila Brasileiro'\n",
      " 'Bulldog' 'Kromfohrländer' 'Setter' 'Griffon' 'Bulgarischer Sennenhund'\n",
      " 'Norwich Terrier' 'Continental Bulldog' \"Gos d'Atura Català\" 'Briard'\n",
      " 'English Setter' 'Cavalier King Charles Spaniel' 'Sibirischer Husky'\n",
      " 'Eurasier' 'Vizsla' 'Foo Dog gross' 'Entlebucher' 'Volpino' 'Dogge'\n",
      " 'Basenji' 'Landseer' 'Toy Pudel' 'Afghanischer Windhund' 'Toyterrier'\n",
      " 'Welsh Corgi Cardigan' 'Akita Inu' 'Lhasa Apso' \"Cirneco dell'Etna\"\n",
      " 'Bernhardiner' 'Skye Terrier' 'Laufhund' 'Königspudel' 'Westgotenspitz'\n",
      " 'Bordeaux Dogge' 'Petit Basset Griffon' 'Deutscher Langhaarschäfer'\n",
      " 'Goldendoodle' 'Irish Wolfhound' 'Galgo' 'Vorstehhund' 'Deerhound'\n",
      " 'Dachsbracke' 'Welsh Corgi Pembroke' 'American Cocker Spaniel' 'Breton'\n",
      " 'Shetland Sheepdog' 'Mittelspitz' 'Schipperke' 'Altdeutscher Schäfer'\n",
      " 'Beauceron Berge de Beauce' 'Epagneul' 'Windhund'\n",
      " 'Nova Scotia Duck Tolling Retriever' 'King Charles Spaniel'\n",
      " 'Gordon Setter' 'Cane Corso' 'Russischer Terrier' 'Luzerner Laufhund'\n",
      " 'Bretonischer Spaniel' 'American Staffordshire Terrier' 'Dogo Argentino'\n",
      " 'Ratenero Bodeguero' 'Welsh Corgi' 'Podenco Ibicenco' 'Boston Terrier'\n",
      " 'Alaskan Malamute' 'Mastiff' 'Malamut' 'Basset' 'Japan Chin'\n",
      " 'Australian Silky Terrier' 'Polski Owczarek Nizinny'\n",
      " 'Altdeutscher Hütehund' 'Jagdhund' 'Maremmano' 'Cattle Dog' 'Zwergspitz'\n",
      " 'Toller' 'Field Spaniel' 'Elo' 'Löwchen' 'Schapendoes' 'Dogo Canario'\n",
      " 'Australian Terrier' 'Segugio' 'Greyhound' 'Spanischer Windhund'\n",
      " 'Neufundländer' 'Malinois' 'Berger de Brie' 'Thai Ridgeback'\n",
      " 'Maremma-Abruzzenhund' 'Australian Cattle Dog' 'Pomeranian'\n",
      " 'Schwedischer Vallhund' 'Deutscher Vorstehhund' 'Poitevin Jagdhund'\n",
      " 'Norfolk Terrier' 'Kaninchen-Dachshund' 'Spaniel' 'Daisy-Dog'\n",
      " 'Katalanischer Schäferhund' 'Barbet' 'Shar Pei' 'Pumi' 'Bardino'\n",
      " 'English Staffordshire Terrier' 'Do-Khyi' 'Saarloos-Wolfshund'\n",
      " 'Old Englische Bulldogge' 'Deutsch Drahthaar' 'Chesapeake Bay Retriever'\n",
      " 'Saluki' 'Pit Bull Terrier' 'Bichon maltais'\n",
      " 'Chinese Crested Hairless Dog' 'Tiroler Bracke' 'Irish Water Spaniel'\n",
      " 'Bologneser' 'Bullmastiff' 'Deutscher Jagdterrier' 'Niederlaufhund'\n",
      " 'Kerry Blue Terrier' 'Affenpinscher' 'Slovensky Cuvac'\n",
      " 'Deutscher Grossspitz' 'Zwergdachshund' 'Kuvasz' 'Retriever' 'Border'\n",
      " 'Deutscher Kurzhaar' 'Perro de Agua' 'Chodsky pes'\n",
      " 'Biewer Yorkshire Terrier' 'Ratero' 'Curly Coated Retriever'\n",
      " 'English Toy Terrier' 'Chinese Foo Dog' 'Kurzhaar Dackel' 'Teckel'\n",
      " 'Alano' 'Wasserhund' 'Puli' 'Norwegischer Buhund'\n",
      " 'Norwegischer Lundehund' 'Finnischer Lapphund' 'Cimarron Uruguayo'\n",
      " 'Pyrenäen' 'Sloughi' 'Epagneul Breton' 'Russkiy Toy' 'Polnische Bracke'\n",
      " 'Bull Terrier' 'Transylvanischer Laufhund' 'Nackthund'\n",
      " 'Australien Kelpie' 'Chinese Powder Puff' 'Wolfspitz' 'Wäller']\n"
     ]
    }
   ],
   "source": [
    "# checking the breeds\n",
    "print (dog_data15['PRIMARY BREED'].unique())"
   ]
  },
  {
   "cell_type": "markdown",
   "id": "d2fd75d6",
   "metadata": {},
   "source": [
    "<b>1- Which age group has the most dogs?<b>"
   ]
  },
  {
   "cell_type": "code",
   "execution_count": 144,
   "id": "24b56f7a",
   "metadata": {},
   "outputs": [
    {
     "data": {
      "text/html": [
       "<div>\n",
       "<style scoped>\n",
       "    .dataframe tbody tr th:only-of-type {\n",
       "        vertical-align: middle;\n",
       "    }\n",
       "\n",
       "    .dataframe tbody tr th {\n",
       "        vertical-align: top;\n",
       "    }\n",
       "\n",
       "    .dataframe thead th {\n",
       "        text-align: right;\n",
       "    }\n",
       "</style>\n",
       "<table border=\"1\" class=\"dataframe\">\n",
       "  <thead>\n",
       "    <tr style=\"text-align: right;\">\n",
       "      <th></th>\n",
       "      <th>AGE</th>\n",
       "      <th>COUNT</th>\n",
       "      <th>YEAR</th>\n",
       "    </tr>\n",
       "  </thead>\n",
       "  <tbody>\n",
       "    <tr>\n",
       "      <th>0</th>\n",
       "      <td>51-60</td>\n",
       "      <td>1512</td>\n",
       "      <td>2015</td>\n",
       "    </tr>\n",
       "    <tr>\n",
       "      <th>1</th>\n",
       "      <td>41-50</td>\n",
       "      <td>1491</td>\n",
       "      <td>2015</td>\n",
       "    </tr>\n",
       "    <tr>\n",
       "      <th>2</th>\n",
       "      <td>31-40</td>\n",
       "      <td>1266</td>\n",
       "      <td>2015</td>\n",
       "    </tr>\n",
       "    <tr>\n",
       "      <th>3</th>\n",
       "      <td>61-70</td>\n",
       "      <td>1043</td>\n",
       "      <td>2015</td>\n",
       "    </tr>\n",
       "    <tr>\n",
       "      <th>4</th>\n",
       "      <td>21-30</td>\n",
       "      <td>786</td>\n",
       "      <td>2015</td>\n",
       "    </tr>\n",
       "  </tbody>\n",
       "</table>\n",
       "</div>"
      ],
      "text/plain": [
       "     AGE  COUNT  YEAR\n",
       "0  51-60   1512  2015\n",
       "1  41-50   1491  2015\n",
       "2  31-40   1266  2015\n",
       "3  61-70   1043  2015\n",
       "4  21-30    786  2015"
      ]
     },
     "execution_count": 144,
     "metadata": {},
     "output_type": "execute_result"
    }
   ],
   "source": [
    "# counting dogs for each age group\n",
    "\n",
    "age_distro15 = dog_data15.AGE.value_counts()  # Counting how many dogs each age group has\n",
    "# creating a dataframe with year, age and count columns for 2015\n",
    "\n",
    "df_age15 = pd.DataFrame(age_distro15)\n",
    "#creating a year column to indicate the year on graphs\n",
    "df_age15['YEAR'] = 2015\n",
    "df_age15.reset_index(inplace=True)\n",
    "df_age15.columns = ['AGE', 'COUNT', 'YEAR']\n",
    "df_age15.head()"
   ]
  },
  {
   "cell_type": "code",
   "execution_count": 145,
   "id": "a1cdc1f1",
   "metadata": {},
   "outputs": [
    {
     "name": "stdout",
     "output_type": "stream",
     "text": [
      "       AGE  COUNT  YEAR\n",
      "0    51-60   1512  2015\n",
      "1    41-50   1491  2015\n",
      "2    31-40   1266  2015\n",
      "3    61-70   1043  2015\n",
      "4    21-30    786  2015\n",
      "5    71-80    644  2015\n",
      "6    81-90    179  2015\n",
      "7    11-20     41  2015\n",
      "8   91-100     16  2015\n",
      "9    51-60   1500  2016\n",
      "10   41-50   1492  2016\n",
      "11   31-40   1293  2016\n",
      "12   61-70   1011  2016\n",
      "13   21-30    762  2016\n",
      "14   71-80    640  2016\n",
      "15   81-90    173  2016\n",
      "16   11-20     41  2016\n",
      "17  91-100     16  2016\n",
      "18   51-60   1500  2017\n",
      "19   41-50   1492  2017\n",
      "20   31-40   1293  2017\n",
      "21   61-70   1011  2017\n",
      "22   21-30    762  2017\n",
      "23   71-80    640  2017\n",
      "24   81-90    173  2017\n",
      "25   11-20     41  2017\n",
      "26  91-100     16  2017\n"
     ]
    }
   ],
   "source": [
    "# creating a dataframe with year, age and count columns for 2016 and 2017\n",
    "\n",
    "\n",
    "age_distro16 = dog_data16.AGE.value_counts()  # counting dogs for each age group\n",
    "\n",
    "df_age16 = pd.DataFrame(age_distro16)\n",
    "#creating a year column to indicate the year on graphs\n",
    "df_age16['YEAR'] = 2016\n",
    "df_age16.reset_index(inplace=True)\n",
    "df_age16.columns = ['AGE', 'COUNT', 'YEAR']\n",
    "df_age16.head()\n",
    "\n",
    "age_distro17 = dog_data17.AGE.value_counts()  # counting dogs for each age group\n",
    "\n",
    "df_age17 = pd.DataFrame(age_distro16)\n",
    "#creating a year column to indicate the year on graphs\n",
    "df_age17['YEAR'] = 2017\n",
    "df_age17.reset_index(inplace=True)\n",
    "df_age17.columns = ['AGE', 'COUNT', 'YEAR']\n",
    "df_age17.head()\n",
    "\n",
    "#merging dataframes of all 3 years\n",
    "df2 = pd.concat([df_age15, df_age16, df_age17], ignore_index=True,axis=0)\n",
    "\n",
    "print(df2)\n"
   ]
  },
  {
   "cell_type": "markdown",
   "id": "5907890c",
   "metadata": {},
   "source": []
  },
  {
   "cell_type": "code",
   "execution_count": 146,
   "id": "61556f1f",
   "metadata": {
    "scrolled": true
   },
   "outputs": [
    {
     "data": {
      "text/plain": [
       "<AxesSubplot:title={'center':'Owner age distribution in 2015'}, xlabel='AGE'>"
      ]
     },
     "execution_count": 146,
     "metadata": {},
     "output_type": "execute_result"
    },
    {
     "data": {
      "text/plain": [
       "<Figure size 1008x576 with 0 Axes>"
      ]
     },
     "metadata": {},
     "output_type": "display_data"
    },
    {
     "data": {
      "image/png": "[encoded data removed]",
      "text/plain": [
       "<Figure size 432x288 with 1 Axes>"
      ]
     },
     "metadata": {},
     "output_type": "display_data"
    }
   ],
   "source": [
    "#plotting the age distribution\n",
    "plt.figure(figsize=(14, 8))\n",
    "df_age15.plot(x= 'AGE', y= 'COUNT',\n",
    "    kind=\"line\",\n",
    "    title= \"Owner age distribution in 2015\")"
   ]
  },
  {
   "cell_type": "markdown",
   "id": "c27a66bd",
   "metadata": {},
   "source": [
    "There are most dog owners in the age group 51-60 in 2015. It looks like the mid-age groups tend to own dogs more.\n"
   ]
  },
  {
   "cell_type": "markdown",
   "id": "35c06f01",
   "metadata": {},
   "source": [
    "<b>2- How does this trend advance in three years from 2015 to 2017?</b>"
   ]
  },
  {
   "cell_type": "code",
   "execution_count": 147,
   "id": "15ec47c9",
   "metadata": {},
   "outputs": [
    {
     "data": {
      "text/plain": [
       "<AxesSubplot:xlabel='AGE', ylabel='COUNT'>"
      ]
     },
     "execution_count": 147,
     "metadata": {},
     "output_type": "execute_result"
    },
    {
     "data": {
      "image/png": "[encoded data removed]",
      "text/plain": [
       "<Figure size 720x720 with 1 Axes>"
      ]
     },
     "metadata": {},
     "output_type": "display_data"
    }
   ],
   "source": [
    "#Plotting a grouped bar graph to show dog counts for each age group comparing in each year.\n",
    "\n",
    "# Set the figure size\n",
    "plt.figure(figsize=(10, 10))\n",
    "\n",
    "#set seaborn plotting aesthetics\n",
    "sns.set(style='dark')\n",
    "\n",
    "#create grouped bar chart\n",
    "sns.barplot(x= 'AGE', y = 'COUNT', hue='YEAR', data= df2) "
   ]
  },
  {
   "cell_type": "markdown",
   "id": "2665bf35",
   "metadata": {},
   "source": [
    "The dog counts don't seem to differ that much compared to each year."
   ]
  },
  {
   "cell_type": "markdown",
   "id": "ec81452e",
   "metadata": {},
   "source": [
    "<b>3- Which age group has the most 'Terrier' breeds?<b>\n"
   ]
  },
  {
   "cell_type": "code",
   "execution_count": 148,
   "id": "65002ded",
   "metadata": {},
   "outputs": [
    {
     "name": "stdout",
     "output_type": "stream",
     "text": [
      "       OWNER_ID    AGE GENDER  CITY QUARTER  DISTRICT       PRIMARY BREED  \\\n",
      "0           126  51-60      m           9.0      92.0       Welsh Terrier   \n",
      "1           574  61-70      w           2.0      23.0       Cairn Terrier   \n",
      "2           695  41-50      m           6.0      63.0  Labrador Retriever   \n",
      "3           893  61-70      w           7.0      71.0     Mittelschnauzer   \n",
      "4          1177  51-60      m          10.0     102.0            Shih Tzu   \n",
      "...         ...    ...    ...           ...       ...                 ...   \n",
      "21060    135718  31-40      m           9.0      91.0     Mischling gross   \n",
      "21061    135725  31-40      w           7.0      74.0               Boxer   \n",
      "21062    135726  11-20      w          11.0     111.0            Pinscher   \n",
      "21063    135728  31-40      w           7.0      72.0             Whippet   \n",
      "21064    135731  21-30      m           9.0      91.0      Cocker Spaniel   \n",
      "\n",
      "      PRIMARY BREEDMIX SECONDARY BREED BREED TYPE  BIRTH YEAR (DOG)  \\\n",
      "0                  NaN             NaN          K              2011   \n",
      "1                  NaN             NaN          K              2002   \n",
      "2                  NaN             NaN          I              2012   \n",
      "3                  NaN             NaN          I              2010   \n",
      "4                  NaN             NaN          K              2011   \n",
      "...                ...             ...        ...               ...   \n",
      "21060              NaN             NaN          I              2015   \n",
      "21061              NaN             NaN          I              2016   \n",
      "21062              NaN             NaN          K              2016   \n",
      "21063              NaN             NaN          I              2016   \n",
      "21064              NaN             NaN          K              2016   \n",
      "\n",
      "      GENDER (DOG)    COLOR (DOG)  YEAR  \n",
      "0                w  schwarz/braun  2015  \n",
      "1                w        brindle  2015  \n",
      "2                w          braun  2015  \n",
      "3                w        schwarz  2015  \n",
      "4                m  schwarz/weiss  2015  \n",
      "...            ...            ...   ...  \n",
      "21060            w         golden  2017  \n",
      "21061            w     gelb/weiss  2017  \n",
      "21062            w        schwarz  2017  \n",
      "21063            w     vierfarbig  2017  \n",
      "21064            m        schwarz  2017  \n",
      "\n",
      "[21065 rows x 13 columns]\n"
     ]
    }
   ],
   "source": [
    "# Creating a year column to the main dataframes before merging them.\n",
    "dog_data15['YEAR'] = 2015\n",
    "dog_data16['YEAR'] = 2016\n",
    "dog_data17['YEAR'] = 2017\n",
    "#Merging all tables \n",
    "df4 = pd.concat([dog_data15, dog_data16, dog_data17], ignore_index=True,axis=0)\n",
    "\n",
    "print(df4)"
   ]
  },
  {
   "cell_type": "code",
   "execution_count": 149,
   "id": "d2a18f5c",
   "metadata": {},
   "outputs": [
    {
     "name": "stdout",
     "output_type": "stream",
     "text": [
      "0        True\n",
      "1        True\n",
      "2       False\n",
      "3       False\n",
      "4       False\n",
      "        ...  \n",
      "6975    False\n",
      "6976    False\n",
      "6977    False\n",
      "6978     True\n",
      "6979    False\n",
      "Name: PRIMARY BREED, Length: 6980, dtype: bool\n"
     ]
    },
    {
     "data": {
      "text/html": [
       "<div>\n",
       "<style scoped>\n",
       "    .dataframe tbody tr th:only-of-type {\n",
       "        vertical-align: middle;\n",
       "    }\n",
       "\n",
       "    .dataframe tbody tr th {\n",
       "        vertical-align: top;\n",
       "    }\n",
       "\n",
       "    .dataframe thead th {\n",
       "        text-align: right;\n",
       "    }\n",
       "</style>\n",
       "<table border=\"1\" class=\"dataframe\">\n",
       "  <thead>\n",
       "    <tr style=\"text-align: right;\">\n",
       "      <th></th>\n",
       "      <th>OWNER_ID</th>\n",
       "      <th>AGE</th>\n",
       "      <th>GENDER</th>\n",
       "      <th>CITY QUARTER</th>\n",
       "      <th>DISTRICT</th>\n",
       "      <th>PRIMARY BREED</th>\n",
       "      <th>PRIMARY BREEDMIX</th>\n",
       "      <th>SECONDARY BREED</th>\n",
       "      <th>BREED TYPE</th>\n",
       "      <th>BIRTH YEAR (DOG)</th>\n",
       "      <th>GENDER (DOG)</th>\n",
       "      <th>COLOR (DOG)</th>\n",
       "      <th>YEAR</th>\n",
       "      <th>TERRIER</th>\n",
       "    </tr>\n",
       "  </thead>\n",
       "  <tbody>\n",
       "    <tr>\n",
       "      <th>0</th>\n",
       "      <td>126</td>\n",
       "      <td>51-60</td>\n",
       "      <td>m</td>\n",
       "      <td>9.0</td>\n",
       "      <td>92.0</td>\n",
       "      <td>Welsh Terrier</td>\n",
       "      <td>NaN</td>\n",
       "      <td>NaN</td>\n",
       "      <td>K</td>\n",
       "      <td>2011</td>\n",
       "      <td>w</td>\n",
       "      <td>schwarz/braun</td>\n",
       "      <td>2015</td>\n",
       "      <td>True</td>\n",
       "    </tr>\n",
       "    <tr>\n",
       "      <th>1</th>\n",
       "      <td>574</td>\n",
       "      <td>61-70</td>\n",
       "      <td>w</td>\n",
       "      <td>2.0</td>\n",
       "      <td>23.0</td>\n",
       "      <td>Cairn Terrier</td>\n",
       "      <td>NaN</td>\n",
       "      <td>NaN</td>\n",
       "      <td>K</td>\n",
       "      <td>2002</td>\n",
       "      <td>w</td>\n",
       "      <td>brindle</td>\n",
       "      <td>2015</td>\n",
       "      <td>True</td>\n",
       "    </tr>\n",
       "    <tr>\n",
       "      <th>2</th>\n",
       "      <td>4362</td>\n",
       "      <td>61-70</td>\n",
       "      <td>w</td>\n",
       "      <td>7.0</td>\n",
       "      <td>74.0</td>\n",
       "      <td>West Highland White Terrier</td>\n",
       "      <td>NaN</td>\n",
       "      <td>NaN</td>\n",
       "      <td>K</td>\n",
       "      <td>2002</td>\n",
       "      <td>m</td>\n",
       "      <td>weiss</td>\n",
       "      <td>2015</td>\n",
       "      <td>True</td>\n",
       "    </tr>\n",
       "    <tr>\n",
       "      <th>3</th>\n",
       "      <td>5227</td>\n",
       "      <td>61-70</td>\n",
       "      <td>m</td>\n",
       "      <td>10.0</td>\n",
       "      <td>101.0</td>\n",
       "      <td>Border Terrier</td>\n",
       "      <td>NaN</td>\n",
       "      <td>NaN</td>\n",
       "      <td>K</td>\n",
       "      <td>2011</td>\n",
       "      <td>w</td>\n",
       "      <td>tricolor</td>\n",
       "      <td>2015</td>\n",
       "      <td>True</td>\n",
       "    </tr>\n",
       "    <tr>\n",
       "      <th>4</th>\n",
       "      <td>6314</td>\n",
       "      <td>61-70</td>\n",
       "      <td>m</td>\n",
       "      <td>10.0</td>\n",
       "      <td>101.0</td>\n",
       "      <td>Jack Russel Terrier</td>\n",
       "      <td>NaN</td>\n",
       "      <td>NaN</td>\n",
       "      <td>K</td>\n",
       "      <td>2005</td>\n",
       "      <td>w</td>\n",
       "      <td>tricolor</td>\n",
       "      <td>2015</td>\n",
       "      <td>True</td>\n",
       "    </tr>\n",
       "  </tbody>\n",
       "</table>\n",
       "</div>"
      ],
      "text/plain": [
       "   OWNER_ID    AGE GENDER  CITY QUARTER  DISTRICT  \\\n",
       "0       126  51-60      m           9.0      92.0   \n",
       "1       574  61-70      w           2.0      23.0   \n",
       "2      4362  61-70      w           7.0      74.0   \n",
       "3      5227  61-70      m          10.0     101.0   \n",
       "4      6314  61-70      m          10.0     101.0   \n",
       "\n",
       "                 PRIMARY BREED PRIMARY BREEDMIX SECONDARY BREED BREED TYPE  \\\n",
       "0                Welsh Terrier              NaN             NaN          K   \n",
       "1                Cairn Terrier              NaN             NaN          K   \n",
       "2  West Highland White Terrier              NaN             NaN          K   \n",
       "3               Border Terrier              NaN             NaN          K   \n",
       "4          Jack Russel Terrier              NaN             NaN          K   \n",
       "\n",
       "   BIRTH YEAR (DOG) GENDER (DOG)    COLOR (DOG)  YEAR  TERRIER  \n",
       "0              2011            w  schwarz/braun  2015     True  \n",
       "1              2002            w        brindle  2015     True  \n",
       "2              2002            m          weiss  2015     True  \n",
       "3              2011            w       tricolor  2015     True  \n",
       "4              2005            w       tricolor  2015     True  "
      ]
     },
     "execution_count": 149,
     "metadata": {},
     "output_type": "execute_result"
    }
   ],
   "source": [
    "# creating a dataframe with terrier only breeds in 2015\n",
    "terrier15 = dog_data15['PRIMARY BREED'].str.contains('terrier', case = False, na=False)\n",
    "print(terrier15)\n",
    "\n",
    "dog_data15['TERRIER'] = terrier15\n",
    "terrier_data15 = dog_data15[dog_data15[\"TERRIER\"] == True].reset_index(drop=True)\n",
    "#checking the terrier column\n",
    "terrier_data15.head()\n",
    "\n"
   ]
  },
  {
   "cell_type": "code",
   "execution_count": 150,
   "id": "93181301",
   "metadata": {},
   "outputs": [
    {
     "data": {
      "text/plain": [
       "<AxesSubplot:title={'center':'Terrier Owner age distribution in 2015'}>"
      ]
     },
     "execution_count": 150,
     "metadata": {},
     "output_type": "execute_result"
    },
    {
     "data": {
      "image/png": "[encoded data removed]",
      "text/plain": [
       "<Figure size 1008x576 with 1 Axes>"
      ]
     },
     "metadata": {},
     "output_type": "display_data"
    }
   ],
   "source": [
    "#plotting the age distribution of terrier dogs \n",
    "    #2015\n",
    "plt.figure(figsize=(14, 8))\n",
    "terrier_data15.AGE.value_counts().plot(\n",
    "    kind=\"bar\",\n",
    "    title= \"Terrier Owner age distribution in 2015\")"
   ]
  },
  {
   "cell_type": "markdown",
   "id": "a24e4de1",
   "metadata": {},
   "source": [
    "The most terrier owners are in the age range 51-60 in 2015 as well. \n",
    "However the age range 41-50 has a close race with 51-60."
   ]
  },
  {
   "cell_type": "code",
   "execution_count": 151,
   "id": "9d8c1713",
   "metadata": {},
   "outputs": [
    {
     "name": "stdout",
     "output_type": "stream",
     "text": [
      "0        True\n",
      "1        True\n",
      "2       False\n",
      "3       False\n",
      "4       False\n",
      "        ...  \n",
      "6975    False\n",
      "6976    False\n",
      "6977    False\n",
      "6978     True\n",
      "6979    False\n",
      "Name: PRIMARY BREED, Length: 6980, dtype: bool\n",
      "0        True\n",
      "1        True\n",
      "2       False\n",
      "3       False\n",
      "4       False\n",
      "        ...  \n",
      "6975    False\n",
      "6976    False\n",
      "6977    False\n",
      "6978     True\n",
      "6979    False\n",
      "Name: PRIMARY BREED, Length: 6980, dtype: bool\n"
     ]
    }
   ],
   "source": [
    "\n",
    "\n",
    "terrier_distro15 = terrier_data15.AGE.value_counts()  # Counting how many terrier dogs each age group has\n",
    "# creating a dataframe with year, age and count columns for 2015\n",
    "\n",
    "df_terrier15 = pd.DataFrame(terrier_distro15)\n",
    "df_terrier15['YEAR'] = 2015\n",
    "df_terrier15.reset_index(inplace=True)\n",
    "df_terrier15.columns = ['AGE', 'TERRIER', 'YEAR']\n",
    "df_terrier15.head()\n",
    "\n",
    "#counting terriers by age group for other years.\n",
    "    #2016\n",
    "terrier16 = dog_data16['PRIMARY BREED'].str.contains('terrier', case = False, na=False)\n",
    "print(terrier15)\n",
    "\n",
    "dog_data16['TERRIER'] = terrier16\n",
    "terrier_data16 = dog_data16[dog_data16[\"TERRIER\"] == True].reset_index(drop=True)\n",
    "\n",
    "terrier_distro16 = terrier_data16.AGE.value_counts() \n",
    "\n",
    "df_terrier16 = pd.DataFrame(terrier_distro16)\n",
    "df_terrier16['YEAR'] = 2016\n",
    "df_terrier16.reset_index(inplace=True)\n",
    "df_terrier16.columns = ['AGE', 'TERRIER', 'YEAR']\n",
    "df_terrier16.head()\n",
    "\n",
    "\n",
    "    #2017\n",
    "terrier17 = dog_data17['PRIMARY BREED'].str.contains('terrier', case = False, na=False)\n",
    "print(terrier15)\n",
    "\n",
    "dog_data17['TERRIER'] = terrier17\n",
    "terrier_data17 = dog_data17[dog_data17[\"TERRIER\"] == True].reset_index(drop=True)\n",
    "\n",
    " \n",
    "terrier_distro17 = terrier_data17.AGE.value_counts()  # Counting how many dogs each age group has\n",
    "\n",
    "df_terrier17 = pd.DataFrame(terrier_distro17)\n",
    "df_terrier17['YEAR'] = 2017\n",
    "df_terrier17.reset_index(inplace=True)\n",
    "df_terrier17.columns = ['AGE', 'TERRIER', 'YEAR']\n",
    "df_terrier17.head()\n",
    "\n",
    "#merging dataframes of all 3 years for terriers\n",
    "df_terrier = pd.concat([df_terrier15, df_terrier16, df_terrier17], ignore_index=True,axis=0)\n"
   ]
  },
  {
   "cell_type": "code",
   "execution_count": 152,
   "id": "cb1881bd",
   "metadata": {},
   "outputs": [
    {
     "data": {
      "text/plain": [
       "<AxesSubplot:xlabel='AGE', ylabel='TERRIER'>"
      ]
     },
     "execution_count": 152,
     "metadata": {},
     "output_type": "execute_result"
    },
    {
     "data": {
      "image/png": "[encoded data removed]",
      "text/plain": [
       "<Figure size 720x720 with 1 Axes>"
      ]
     },
     "metadata": {},
     "output_type": "display_data"
    }
   ],
   "source": [
    "#plot a graph for terriers only\n",
    "#Plotting a grouped bar graph to show dog counts for each age group comparing in each year.\n",
    "\n",
    "# Set the figure size\n",
    "plt.figure(figsize=(10, 10))\n",
    "\n",
    "#set seaborn plotting aesthetics\n",
    "sns.set(style='dark')\n",
    "\n",
    "#create grouped bar chart\n",
    "sns.barplot(x= 'AGE', y = 'TERRIER', hue='YEAR', data= df_terrier) "
   ]
  },
  {
   "cell_type": "markdown",
   "id": "cf6a3562",
   "metadata": {},
   "source": [
    "The age group 51-60 has the most terriers in all years. But this age group seems to adopt\n",
    "more terriers as years pass by."
   ]
  },
  {
   "cell_type": "code",
   "execution_count": 153,
   "id": "5471b742",
   "metadata": {},
   "outputs": [
    {
     "name": "stdout",
     "output_type": "stream",
     "text": [
      "0      51-60\n",
      "1      41-50\n",
      "2      61-70\n",
      "3      31-40\n",
      "4      71-80\n",
      "5      21-30\n",
      "6      81-90\n",
      "7      11-20\n",
      "8     91-100\n",
      "9      51-60\n",
      "10     41-50\n",
      "11     31-40\n",
      "12     61-70\n",
      "13     71-80\n",
      "14     21-30\n",
      "15     81-90\n",
      "16     11-20\n",
      "17    91-100\n",
      "18     51-60\n",
      "19     41-50\n",
      "20     31-40\n",
      "21     61-70\n",
      "22     71-80\n",
      "23     21-30\n",
      "24     81-90\n",
      "25     11-20\n",
      "26    91-100\n",
      "Name: AGE, dtype: object\n"
     ]
    }
   ],
   "source": [
    "print (df_terrier['AGE'])"
   ]
  },
  {
   "cell_type": "markdown",
   "id": "82747c3c",
   "metadata": {},
   "source": [
    "<b> 5- Which district seems to own the most Terrier dogs? <b>"
   ]
  },
  {
   "cell_type": "code",
   "execution_count": 154,
   "id": "c8984fd5",
   "metadata": {},
   "outputs": [
    {
     "data": {
      "text/plain": [
       "<AxesSubplot:title={'center':'District distribution in 2015'}>"
      ]
     },
     "execution_count": 154,
     "metadata": {},
     "output_type": "execute_result"
    },
    {
     "data": {
      "image/png": "[encoded data removed]",
      "text/plain": [
       "<Figure size 1008x576 with 1 Axes>"
      ]
     },
     "metadata": {},
     "output_type": "display_data"
    }
   ],
   "source": [
    "#2015\n",
    "plt.figure(figsize=(14 , 8))\n",
    "terrier_data15.DISTRICT.value_counts().plot(\n",
    "    kind=\"bar\",\n",
    "    title= \"District distribution in 2015\")"
   ]
  },
  {
   "cell_type": "code",
   "execution_count": 155,
   "id": "ef3e3848",
   "metadata": {},
   "outputs": [
    {
     "data": {
      "text/plain": [
       "<AxesSubplot:title={'center':'District distribution in 2016'}>"
      ]
     },
     "execution_count": 155,
     "metadata": {},
     "output_type": "execute_result"
    },
    {
     "data": {
      "image/png": "[encoded data removed]",
      "text/plain": [
       "<Figure size 1008x576 with 1 Axes>"
      ]
     },
     "metadata": {},
     "output_type": "display_data"
    }
   ],
   "source": [
    "#2016\n",
    "plt.figure(figsize=(14 , 8))\n",
    "terrier_data16.DISTRICT.value_counts().plot(\n",
    "    kind=\"bar\",\n",
    "    title= \"District distribution in 2016\")"
   ]
  },
  {
   "cell_type": "code",
   "execution_count": 156,
   "id": "a6aff237",
   "metadata": {},
   "outputs": [
    {
     "data": {
      "text/plain": [
       "<AxesSubplot:title={'center':'District distribution in 2017'}>"
      ]
     },
     "execution_count": 156,
     "metadata": {},
     "output_type": "execute_result"
    },
    {
     "data": {
      "image/png": "[encoded data removed]",
      "text/plain": [
       "<Figure size 1008x576 with 1 Axes>"
      ]
     },
     "metadata": {},
     "output_type": "display_data"
    }
   ],
   "source": [
    "#2017\n",
    "plt.figure(figsize=(14 , 8))\n",
    "terrier_data17.DISTRICT.value_counts().plot(\n",
    "    kind=\"bar\",\n",
    "    title= \"District distribution in 2017\")"
   ]
  },
  {
   "cell_type": "markdown",
   "id": "a7f3dec1",
   "metadata": {},
   "source": [
    "District# 92 does have the most terrier owners in all three years. Therefore it's the most terrier friendly district. It's followed by #111 and #101."
   ]
  },
  {
   "cell_type": "code",
   "execution_count": 157,
   "id": "80652e1b",
   "metadata": {},
   "outputs": [
    {
     "data": {
      "image/png": "[encoded data removed]",
      "text/plain": [
       "<Figure size 864x720 with 1 Axes>"
      ]
     },
     "metadata": {},
     "output_type": "display_data"
    }
   ],
   "source": [
    "#creating a whole dataframe out of terrier dataframes\n",
    "terrier_data = pd.concat([terrier_data15, terrier_data16, terrier_data17], ignore_index=True,axis=0)\n",
    "\n",
    "#creating dataframe with an average number of 3 years\n",
    "district_distro = round ((terrier_data.DISTRICT.value_counts()/3),0)  # Finding the mean of all three years\n",
    "\n",
    "plt.figure(figsize=(12 , 10))\n",
    "\n",
    "district_distro.plot.barh(color ='red')\n",
    "\n",
    "plt.title('District Distribution ')\n",
    "plt.ylabel('District No')\n",
    "plt.xlabel('Terrier Counts')\n",
    "plt.show()"
   ]
  },
  {
   "cell_type": "markdown",
   "id": "91631380",
   "metadata": {},
   "source": [
    "<b>4- Which is the most common color in Terrier dogs?<b>\n"
   ]
  },
  {
   "cell_type": "code",
   "execution_count": 158,
   "id": "2b8623d9",
   "metadata": {},
   "outputs": [
    {
     "data": {
      "text/html": [
       "<div>\n",
       "<style scoped>\n",
       "    .dataframe tbody tr th:only-of-type {\n",
       "        vertical-align: middle;\n",
       "    }\n",
       "\n",
       "    .dataframe tbody tr th {\n",
       "        vertical-align: top;\n",
       "    }\n",
       "\n",
       "    .dataframe thead th {\n",
       "        text-align: right;\n",
       "    }\n",
       "</style>\n",
       "<table border=\"1\" class=\"dataframe\">\n",
       "  <thead>\n",
       "    <tr style=\"text-align: right;\">\n",
       "      <th></th>\n",
       "      <th>COLOR (DOG)</th>\n",
       "    </tr>\n",
       "  </thead>\n",
       "  <tbody>\n",
       "    <tr>\n",
       "      <th>0</th>\n",
       "      <td>schwarz/braun</td>\n",
       "    </tr>\n",
       "    <tr>\n",
       "      <th>1</th>\n",
       "      <td>brindle</td>\n",
       "    </tr>\n",
       "    <tr>\n",
       "      <th>2</th>\n",
       "      <td>weiss</td>\n",
       "    </tr>\n",
       "    <tr>\n",
       "      <th>3</th>\n",
       "      <td>tricolor</td>\n",
       "    </tr>\n",
       "    <tr>\n",
       "      <th>4</th>\n",
       "      <td>tricolor</td>\n",
       "    </tr>\n",
       "    <tr>\n",
       "      <th>5</th>\n",
       "      <td>mahagoni/weiss</td>\n",
       "    </tr>\n",
       "  </tbody>\n",
       "</table>\n",
       "</div>"
      ],
      "text/plain": [
       "      COLOR (DOG)\n",
       "0   schwarz/braun\n",
       "1         brindle\n",
       "2           weiss\n",
       "3        tricolor\n",
       "4        tricolor\n",
       "5  mahagoni/weiss"
      ]
     },
     "execution_count": 158,
     "metadata": {},
     "output_type": "execute_result"
    }
   ],
   "source": [
    "#creating a dataframe only with the color (dog) column\n",
    "df_color = pd.DataFrame(terrier_data['COLOR (DOG)'])\n",
    "df_color.head(6)"
   ]
  },
  {
   "cell_type": "code",
   "execution_count": 159,
   "id": "30f53249",
   "metadata": {},
   "outputs": [
    {
     "data": {
      "text/plain": [
       "array(['schwarz/braun', 'brindle', 'weiss', 'tricolor', 'mahagoni/weiss',\n",
       "       'black/tan', 'rot/beige', 'blue/tan', 'rot/grau/schwarz',\n",
       "       'graubraun', 'beige/braun/schwarz', 'beige', 'schwarz/weiss',\n",
       "       'weiss/rot', 'schwarz', 'braun/weiss', 'grau/braun', 'red grizzle',\n",
       "       'weiss/schwarz', 'rot', 'weiss/braun', 'weiss/schwarz/braun',\n",
       "       'dreifarbig', 'saufarben', 'schwarz/beige', 'steelblue/tan',\n",
       "       'rot/braun', 'rot/weiss', 'dunkel gestromt', 'silber/braun',\n",
       "       'braun', 'schwarz/braun/weiss', 'beige/weiss', 'schwarz/gelb',\n",
       "       'beige/grau', 'weizen', 'blue/steel', 'braun/schwarz',\n",
       "       'weiss/beige', 'beige/schwarz', 'zobel', 'schwarz/weiss/braun',\n",
       "       'blondfarben', 'grau', 'grau/schwarz', 'schwarz/braun/grau',\n",
       "       'braun/beige', 'schwarz gestromt', 'hellbraun', 'gestromt',\n",
       "       'steelblue', 'rotbraun', 'silbergrau', 'hellbraun/weiss',\n",
       "       'braun/weiss/schwarz', 'sable', 'fauve', 'braun gestromt',\n",
       "       'beige/braun', 'goldbraun', 'braun/grau', 'schwarz/rot',\n",
       "       'rot/schwarz', 'zobel/weiss', 'schwarz/grau', 'beige/rot',\n",
       "       'gold/weiss', 'grau/silber', 'rot/braun/weiss', 'schwarz Marken',\n",
       "       'red-brindle', 'braun/schwarz/weiss', 'wildfarbig',\n",
       "       'braun meliert', 'weiss/braun/schwarz', 'golden', 'grau/beige',\n",
       "       'creme', 'weiss/grau', 'wheaton', 'schwarz/braun gestromt',\n",
       "       'gelb/braun', 'rotbraun/weiss', 'weiss gestromt',\n",
       "       'beige/grau/weiss', 'schwarz/braun/beige', 'weiss/orange',\n",
       "       'dunkelbraun', 'grizzle', 'schwarz/loh', 'blau', 'choco', 'gelb',\n",
       "       'bicolor', 'weiss/blau', 'vierfarbig', 'blau/weiss', 'rehbraun',\n",
       "       'sandfarbig', 'schwarz/silber'], dtype=object)"
      ]
     },
     "execution_count": 159,
     "metadata": {},
     "output_type": "execute_result"
    }
   ],
   "source": [
    "df_color['COLOR (DOG)'].unique()"
   ]
  },
  {
   "cell_type": "code",
   "execution_count": 160,
   "id": "8b0e3650",
   "metadata": {},
   "outputs": [
    {
     "data": {
      "text/html": [
       "<div>\n",
       "<style scoped>\n",
       "    .dataframe tbody tr th:only-of-type {\n",
       "        vertical-align: middle;\n",
       "    }\n",
       "\n",
       "    .dataframe tbody tr th {\n",
       "        vertical-align: top;\n",
       "    }\n",
       "\n",
       "    .dataframe thead th {\n",
       "        text-align: right;\n",
       "    }\n",
       "</style>\n",
       "<table border=\"1\" class=\"dataframe\">\n",
       "  <thead>\n",
       "    <tr style=\"text-align: right;\">\n",
       "      <th></th>\n",
       "      <th>COLOR (DOG)</th>\n",
       "      <th>COUNT</th>\n",
       "    </tr>\n",
       "  </thead>\n",
       "  <tbody>\n",
       "    <tr>\n",
       "      <th>0</th>\n",
       "      <td>tricolor</td>\n",
       "      <td>704</td>\n",
       "    </tr>\n",
       "    <tr>\n",
       "      <th>1</th>\n",
       "      <td>weiss</td>\n",
       "      <td>327</td>\n",
       "    </tr>\n",
       "    <tr>\n",
       "      <th>2</th>\n",
       "      <td>black/tan</td>\n",
       "      <td>268</td>\n",
       "    </tr>\n",
       "    <tr>\n",
       "      <th>3</th>\n",
       "      <td>schwarz/braun</td>\n",
       "      <td>228</td>\n",
       "    </tr>\n",
       "    <tr>\n",
       "      <th>4</th>\n",
       "      <td>blue/tan</td>\n",
       "      <td>171</td>\n",
       "    </tr>\n",
       "  </tbody>\n",
       "</table>\n",
       "</div>"
      ],
      "text/plain": [
       "     COLOR (DOG)  COUNT\n",
       "0       tricolor    704\n",
       "1          weiss    327\n",
       "2      black/tan    268\n",
       "3  schwarz/braun    228\n",
       "4       blue/tan    171"
      ]
     },
     "execution_count": 160,
     "metadata": {},
     "output_type": "execute_result"
    }
   ],
   "source": [
    "#finding the top five colors of terriers\n",
    "top5_color = pd.DataFrame(df_color.value_counts().head())\n",
    "top5_color.reset_index(inplace=True)\n",
    "top5_color.columns = ['COLOR (DOG)', 'COUNT']\n",
    "top5_color"
   ]
  },
  {
   "cell_type": "markdown",
   "id": "914851b6",
   "metadata": {},
   "source": [
    "The top five colors of terriers are 'tricolor', 'weiss', 'black/tan' and 'schwarz/braun'and 'blue/tan.'"
   ]
  },
  {
   "cell_type": "code",
   "execution_count": 99,
   "id": "02e1bf4f",
   "metadata": {},
   "outputs": [
    {
     "data": {
      "text/html": [
       "<div>\n",
       "<style scoped>\n",
       "    .dataframe tbody tr th:only-of-type {\n",
       "        vertical-align: middle;\n",
       "    }\n",
       "\n",
       "    .dataframe tbody tr th {\n",
       "        vertical-align: top;\n",
       "    }\n",
       "\n",
       "    .dataframe thead th {\n",
       "        text-align: right;\n",
       "    }\n",
       "</style>\n",
       "<table border=\"1\" class=\"dataframe\">\n",
       "  <thead>\n",
       "    <tr style=\"text-align: right;\">\n",
       "      <th></th>\n",
       "      <th>Language</th>\n",
       "    </tr>\n",
       "  </thead>\n",
       "  <tbody>\n",
       "    <tr>\n",
       "      <th>de</th>\n",
       "      <td>german</td>\n",
       "    </tr>\n",
       "  </tbody>\n",
       "</table>\n",
       "</div>"
      ],
      "text/plain": [
       "   Language\n",
       "de   german"
      ]
     },
     "execution_count": 99,
     "metadata": {},
     "output_type": "execute_result"
    }
   ],
   "source": [
    "#Translating the top five colors into english\n",
    "    #importing the modules\n",
    "import goslate\n",
    "import googletrans\n",
    "from googletrans import Translator\n",
    "gs = goslate.Goslate()\n",
    "translator = Translator()\n",
    "pd.set_option('max_colwidth', 300)\n",
    "# how to get the supported language and their corresponing code\n",
    "lang_df = pd.DataFrame.from_dict(googletrans.LANGUAGES,  orient='index', columns=['Language'])\n",
    "#finding code for german\n",
    "lang_df[lang_df.Language.isin(['german'])]\n"
   ]
  },
  {
   "cell_type": "code",
   "execution_count": 100,
   "id": "35d26993",
   "metadata": {},
   "outputs": [
    {
     "name": "stdout",
     "output_type": "stream",
     "text": [
      "brown\n"
     ]
    }
   ],
   "source": [
    "#testing the translation\n",
    "my_translation = translator.translate(\"braun\", src='de', dest='en')\n",
    "print(my_translation.text)"
   ]
  },
  {
   "cell_type": "code",
   "execution_count": 163,
   "id": "975e3ba9",
   "metadata": {},
   "outputs": [],
   "source": [
    "#translate the top 5 color palette into English\n",
    "top5_color['COLOR (DOG)'] = top5_color['COLOR (DOG)'].apply(lambda x: translator.translate(x, src='de', dest='en').text )\n"
   ]
  },
  {
   "cell_type": "code",
   "execution_count": 162,
   "id": "82dd7ebc",
   "metadata": {},
   "outputs": [
    {
     "name": "stdout",
     "output_type": "stream",
     "text": [
      "0       tricolor\n",
      "1          white\n",
      "2      black/tan\n",
      "3    black/brown\n",
      "4       blue/tan\n",
      "Name: COLOR (DOG), dtype: object\n"
     ]
    }
   ],
   "source": [
    "print(top5_color['COLOR (DOG)'])"
   ]
  },
  {
   "cell_type": "code",
   "execution_count": 170,
   "id": "19ca3a37",
   "metadata": {},
   "outputs": [
    {
     "data": {
      "text/plain": [
       "<AxesSubplot:title={'center':'The top 5 colors of Terriers'}, xlabel='COLOR (DOG)', ylabel='COUNT'>"
      ]
     },
     "execution_count": 170,
     "metadata": {},
     "output_type": "execute_result"
    },
    {
     "data": {
      "image/png": "[encoded data removed]",
      "text/plain": [
       "<Figure size 432x288 with 1 Axes>"
      ]
     },
     "metadata": {},
     "output_type": "display_data"
    }
   ],
   "source": [
    "#find the average count for 3 years using scatter plot\n",
    "top5_color['COUNT'] = top5_color['COUNT']/3\n",
    "#Plot the bar graph\n",
    "top5_color.plot(x= 'COLOR (DOG)', y= 'COUNT',\n",
    "                kind = 'scatter',\n",
    "                color = 'purple',\n",
    "                title= \"The top 5 colors of Terriers\")"
   ]
  },
  {
   "cell_type": "markdown",
   "id": "66d0bf21",
   "metadata": {},
   "source": [
    "<b> Conclusion:<b>"
   ]
  },
  {
   "cell_type": "markdown",
   "id": "e5de0888",
   "metadata": {},
   "source": [
    "The age groups 51-60 and 41-50 have the most Terrier owners and district 92 followed by 111 and 101 are the most \n",
    "terrier friendly districts.The most common color in Terrier berried are tricolor, white and black/tan."
   ]
  },
  {
   "cell_type": "code",
   "execution_count": null,
   "id": "d2d96b06",
   "metadata": {},
   "outputs": [],
   "source": []
  }
 ],
 "metadata": {
  "kernelspec": {
   "display_name": "Python 3 (ipykernel)",
   "language": "python",
   "name": "python3"
  },
  "language_info": {
   "codemirror_mode": {
    "name": "ipython",
    "version": 3
   },
   "file_extension": ".py",
   "mimetype": "text/x-python",
   "name": "python",
   "nbconvert_exporter": "python",
   "pygments_lexer": "ipython3",
   "version": "3.9.12"
  }
 },
 "nbformat": 4,
 "nbformat_minor": 5
}
